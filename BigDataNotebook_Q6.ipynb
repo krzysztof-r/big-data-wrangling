{
 "cells": [
  {
   "cell_type": "markdown",
   "metadata": {},
   "source": [
    "# 6. Read CSV Data from S3 Folder into Pandas DataFrame"
   ]
  },
  {
   "cell_type": "markdown",
   "metadata": {},
   "source": [
    "Lastly, I will read the `datatoken.csv` data from my `big-data-google-bucket` S3 folder into a pandas DataFrame using S3 path and pd.read_csv. Plot the number of occurrences of the token (the frequency column) of data over the years using matplotlib."
   ]
  },
  {
   "cell_type": "code",
   "execution_count": 2,
   "metadata": {},
   "outputs": [],
   "source": [
    "# need boto3 to interact with s3\n",
    "import boto3"
   ]
  },
  {
   "cell_type": "code",
   "execution_count": 3,
   "metadata": {},
   "outputs": [],
   "source": [
    "# the .client() object in boto3 is what we use to access and use our s3 buckets\n",
    "s3 = boto3.client('s3')"
   ]
  },
  {
   "cell_type": "markdown",
   "metadata": {},
   "source": [
    "To view the S3 buckets in my account, I will use the `.list_buckets()` method."
   ]
  },
  {
   "cell_type": "code",
   "execution_count": 4,
   "metadata": {},
   "outputs": [
    {
     "data": {
      "text/plain": [
       "{'ResponseMetadata': {'RequestId': 'E229B9C4704CB954',\n",
       "  'HostId': 'NVWW7iqbv9jDe8Z1S+1djt1AT8joIX7T+KJDEIV8GFrD1H0P8f6Gs+J2nW9JTmZvhH6/d3USkcc=',\n",
       "  'HTTPStatusCode': 200,\n",
       "  'HTTPHeaders': {'x-amz-id-2': 'NVWW7iqbv9jDe8Z1S+1djt1AT8joIX7T+KJDEIV8GFrD1H0P8f6Gs+J2nW9JTmZvhH6/d3USkcc=',\n",
       "   'x-amz-request-id': 'E229B9C4704CB954',\n",
       "   'date': 'Mon, 07 Dec 2020 04:33:52 GMT',\n",
       "   'content-type': 'application/xml',\n",
       "   'transfer-encoding': 'chunked',\n",
       "   'server': 'AmazonS3'},\n",
       "  'RetryAttempts': 0},\n",
       " 'Buckets': [{'Name': 'aws-emr-resources-564399015445-ca-central-1',\n",
       "   'CreationDate': datetime.datetime(2020, 12, 1, 15, 35, 35, tzinfo=tzutc())},\n",
       "  {'Name': 'aws-logs-564399015445-ca-central-1',\n",
       "   'CreationDate': datetime.datetime(2020, 11, 27, 18, 19, 20, tzinfo=tzutc())},\n",
       "  {'Name': 'big-data-google-bucket',\n",
       "   'CreationDate': datetime.datetime(2020, 12, 7, 2, 57, 38, tzinfo=tzutc())}],\n",
       " 'Owner': {'ID': 'beac8589107b6d2b1800dd9f5a87fee57867cecaf3d1489fbc4cac8e8fb8e1f5'}}"
      ]
     },
     "execution_count": 4,
     "metadata": {},
     "output_type": "execute_result"
    }
   ],
   "source": [
    "# view buckets\n",
    "bucket_list = s3.list_buckets()\n",
    "bucket_list"
   ]
  },
  {
   "cell_type": "markdown",
   "metadata": {},
   "source": [
    "Although this may look confusing as its shown in the form of a dictionary, we can see that the `big-data-google-bucket` is shown within the bucket list.\n",
    "\n",
    "To look into that specific bucket now, we must do the following:"
   ]
  },
  {
   "cell_type": "code",
   "execution_count": 6,
   "metadata": {},
   "outputs": [
    {
     "data": {
      "text/plain": [
       "{'ResponseMetadata': {'RequestId': '7C236CBB5BB952DF',\n",
       "  'HostId': '+b8pT6g97TCg9tqsxiAYYkdAZN35+PlEVq801ysOqCT1VCr99hIhZMYEJ7ZmpIju0Eq5ojpPSHY=',\n",
       "  'HTTPStatusCode': 200,\n",
       "  'HTTPHeaders': {'x-amz-id-2': '+b8pT6g97TCg9tqsxiAYYkdAZN35+PlEVq801ysOqCT1VCr99hIhZMYEJ7ZmpIju0Eq5ojpPSHY=',\n",
       "   'x-amz-request-id': '7C236CBB5BB952DF',\n",
       "   'date': 'Mon, 07 Dec 2020 04:36:23 GMT',\n",
       "   'x-amz-bucket-region': 'ca-central-1',\n",
       "   'content-type': 'application/xml',\n",
       "   'transfer-encoding': 'chunked',\n",
       "   'server': 'AmazonS3'},\n",
       "  'RetryAttempts': 0},\n",
       " 'IsTruncated': False,\n",
       " 'Contents': [{'Key': 'datatoken.csv',\n",
       "   'LastModified': datetime.datetime(2020, 12, 7, 4, 17, 15, tzinfo=tzutc()),\n",
       "   'ETag': '\"db5c4349824c7fe5685fb904d2e52044\"',\n",
       "   'Size': 7305,\n",
       "   'StorageClass': 'STANDARD'}],\n",
       " 'Name': 'big-data-google-bucket',\n",
       " 'Prefix': '',\n",
       " 'MaxKeys': 1000,\n",
       " 'EncodingType': 'url',\n",
       " 'KeyCount': 1}"
      ]
     },
     "execution_count": 6,
     "metadata": {},
     "output_type": "execute_result"
    }
   ],
   "source": [
    "# list files inside a specified bucket\n",
    "bucket_files = s3.list_objects_v2(Bucket='big-data-google-bucket')\n",
    "bucket_files"
   ]
  },
  {
   "cell_type": "markdown",
   "metadata": {},
   "source": [
    "Now in order to download the `datatoken.csv` file from my big-data-google-bucket, I will use the `.download_file()` method on my S3 client object."
   ]
  },
  {
   "cell_type": "code",
   "execution_count": 8,
   "metadata": {},
   "outputs": [],
   "source": [
    "# 3 arguments: bucket name, file name, destination file path on your local machine\n",
    "s3.download_file(Bucket = 'big-data-google-bucket', Key = 'datatoken.csv', Filename = 'datatoken.csv')"
   ]
  },
  {
   "cell_type": "markdown",
   "metadata": {},
   "source": [
    "Lastly, I can read the `datatoken.csv` data from the S3 folder into a pandas DataFrame using `pd.read_csv`"
   ]
  },
  {
   "cell_type": "code",
   "execution_count": 12,
   "metadata": {},
   "outputs": [
    {
     "data": {
      "text/html": [
       "<div>\n",
       "<style scoped>\n",
       "    .dataframe tbody tr th:only-of-type {\n",
       "        vertical-align: middle;\n",
       "    }\n",
       "\n",
       "    .dataframe tbody tr th {\n",
       "        vertical-align: top;\n",
       "    }\n",
       "\n",
       "    .dataframe thead th {\n",
       "        text-align: right;\n",
       "    }\n",
       "</style>\n",
       "<table border=\"1\" class=\"dataframe\">\n",
       "  <thead>\n",
       "    <tr style=\"text-align: right;\">\n",
       "      <th></th>\n",
       "      <th>year</th>\n",
       "      <th>frequency</th>\n",
       "      <th>pages</th>\n",
       "      <th>books</th>\n",
       "    </tr>\n",
       "    <tr>\n",
       "      <th>token</th>\n",
       "      <th></th>\n",
       "      <th></th>\n",
       "      <th></th>\n",
       "      <th></th>\n",
       "    </tr>\n",
       "  </thead>\n",
       "  <tbody>\n",
       "    <tr>\n",
       "      <th>data</th>\n",
       "      <td>1584</td>\n",
       "      <td>16</td>\n",
       "      <td>14</td>\n",
       "      <td>1</td>\n",
       "    </tr>\n",
       "    <tr>\n",
       "      <th>data</th>\n",
       "      <td>1614</td>\n",
       "      <td>3</td>\n",
       "      <td>2</td>\n",
       "      <td>1</td>\n",
       "    </tr>\n",
       "    <tr>\n",
       "      <th>data</th>\n",
       "      <td>1627</td>\n",
       "      <td>1</td>\n",
       "      <td>1</td>\n",
       "      <td>1</td>\n",
       "    </tr>\n",
       "    <tr>\n",
       "      <th>data</th>\n",
       "      <td>1631</td>\n",
       "      <td>22</td>\n",
       "      <td>18</td>\n",
       "      <td>1</td>\n",
       "    </tr>\n",
       "    <tr>\n",
       "      <th>data</th>\n",
       "      <td>1637</td>\n",
       "      <td>1</td>\n",
       "      <td>1</td>\n",
       "      <td>1</td>\n",
       "    </tr>\n",
       "    <tr>\n",
       "      <th>...</th>\n",
       "      <td>...</td>\n",
       "      <td>...</td>\n",
       "      <td>...</td>\n",
       "      <td>...</td>\n",
       "    </tr>\n",
       "    <tr>\n",
       "      <th>data</th>\n",
       "      <td>2004</td>\n",
       "      <td>201841</td>\n",
       "      <td>93539</td>\n",
       "      <td>3483</td>\n",
       "    </tr>\n",
       "    <tr>\n",
       "      <th>data</th>\n",
       "      <td>2005</td>\n",
       "      <td>197467</td>\n",
       "      <td>88901</td>\n",
       "      <td>3392</td>\n",
       "    </tr>\n",
       "    <tr>\n",
       "      <th>data</th>\n",
       "      <td>2006</td>\n",
       "      <td>203669</td>\n",
       "      <td>92960</td>\n",
       "      <td>3449</td>\n",
       "    </tr>\n",
       "    <tr>\n",
       "      <th>data</th>\n",
       "      <td>2007</td>\n",
       "      <td>168338</td>\n",
       "      <td>78986</td>\n",
       "      <td>3246</td>\n",
       "    </tr>\n",
       "    <tr>\n",
       "      <th>data</th>\n",
       "      <td>2008</td>\n",
       "      <td>105331</td>\n",
       "      <td>47811</td>\n",
       "      <td>2358</td>\n",
       "    </tr>\n",
       "  </tbody>\n",
       "</table>\n",
       "<p>316 rows × 4 columns</p>\n",
       "</div>"
      ],
      "text/plain": [
       "       year  frequency  pages  books\n",
       "token                               \n",
       "data   1584         16     14      1\n",
       "data   1614          3      2      1\n",
       "data   1627          1      1      1\n",
       "data   1631         22     18      1\n",
       "data   1637          1      1      1\n",
       "...     ...        ...    ...    ...\n",
       "data   2004     201841  93539   3483\n",
       "data   2005     197467  88901   3392\n",
       "data   2006     203669  92960   3449\n",
       "data   2007     168338  78986   3246\n",
       "data   2008     105331  47811   2358\n",
       "\n",
       "[316 rows x 4 columns]"
      ]
     },
     "execution_count": 12,
     "metadata": {},
     "output_type": "execute_result"
    }
   ],
   "source": [
    "# need pandas\n",
    "import pandas as pd\n",
    "\n",
    "# verify that the download to our local machines has worked successfully\n",
    "datatoken_df = pd.read_csv('datatoken.csv', index_col=0)\n",
    "datatoken_df"
   ]
  },
  {
   "cell_type": "markdown",
   "metadata": {},
   "source": [
    "Now that we have our data we can use it to plot the number of occurrences of the token (the frequency column) of data over the years."
   ]
  },
  {
   "cell_type": "code",
   "execution_count": 14,
   "metadata": {},
   "outputs": [],
   "source": [
    "import matplotlib as plt\n",
    "import matplotlib.pyplot as plt"
   ]
  },
  {
   "cell_type": "code",
   "execution_count": 17,
   "metadata": {},
   "outputs": [
    {
     "data": {
      "image/png": "[encoded data removed]",
      "text/plain": [
       "<Figure size 1440x720 with 1 Axes>"
      ]
     },
     "metadata": {
      "needs_background": "light"
     },
     "output_type": "display_data"
    }
   ],
   "source": [
    "# Plotting the number of occurrences of the token (the frequency column) of data over the years\n",
    "\n",
    "# Configuring the figure/chart size.\n",
    "plt.figure(figsize=(20, 10))\n",
    "\n",
    "# Plotting the data\n",
    "plt.scatter(datatoken_df['year'], datatoken_df['frequency'], alpha=0.5, label = 'Occurances over Years')\n",
    "plt.xlabel('year')\n",
    "plt.ylabel('frequency')\n",
    "plt.title('Occurrences of the Token of Data over the Years')\n",
    "plt.legend(loc='best')\n",
    "\n",
    "plt.show()"
   ]
  }
 ],
 "metadata": {
  "kernelspec": {
   "display_name": "Python 3",
   "language": "python",
   "name": "python3"
  },
  "language_info": {
   "codemirror_mode": {
    "name": "ipython",
    "version": 3
   },
   "file_extension": ".py",
   "mimetype": "text/x-python",
   "name": "python",
   "nbconvert_exporter": "python",
   "pygments_lexer": "ipython3",
   "version": "3.8.3"
  }
 },
 "nbformat": 4,
 "nbformat_minor": 4
}
